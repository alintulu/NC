{
 "cells": [
  {
   "cell_type": "code",
   "execution_count": null,
   "id": "826d1185",
   "metadata": {},
   "outputs": [],
   "source": [
    "import numpy as np\n",
    "import pandas as pd\n",
    "pd.options.display.float_format = '{:.2f}'.format\n",
    "\n",
    "import matplotlib.pyplot as plt\n",
    "plt.rcParams['font.size'] = 20"
   ]
  },
  {
   "cell_type": "markdown",
   "id": "98893156",
   "metadata": {},
   "source": [
    "# Table of Contents\n",
    "\n",
    "- [Q1: What is the chance of getting pregnant within 13 cycles?](#Compute-'Chance-of-pregnancy-within-13-cycles')\n",
    "- [Q2: How long does it usually take to get pregnant?](#Compute-'How-long-does-it-usually-take-to-get-pregnant?')\n",
    "- [Q3: What factors impact the time it takes to get pregnant?](#Compute-\"What-factors-impact-the-time-it-takes-to-get-pregnant?\")"
   ]
  },
  {
   "cell_type": "markdown",
   "id": "4a74917b",
   "metadata": {},
   "source": [
    "# Compute 'Chance of pregnancy within 13 cycles'"
   ]
  },
  {
   "cell_type": "code",
   "execution_count": null,
   "id": "57df070c",
   "metadata": {},
   "outputs": [],
   "source": [
    "df = pd.read_pickle('NC_cleaned.pkl')\n",
    "\n",
    "column_trying = 'n_cycles_trying'\n",
    "\n",
    "# create a dataframe of women that became pregnant within 13 cycles\n",
    "filtered_df = df[(\n",
    "    (df[column_trying] <= 13) & (df['outcome'] == 'pregnant')\n",
    ")]\n",
    "total_count = len(df[column_trying])\n",
    "# compute chance\n",
    "chance = 100 * len(filtered_df[column_trying]) / total_count\n",
    "\n",
    "print(f\"Chance is {chance:.2f} %\")"
   ]
  },
  {
   "cell_type": "code",
   "execution_count": null,
   "id": "edae11a2",
   "metadata": {},
   "outputs": [],
   "source": [
    "# create a dataframe of women that became pregnant within 13 cycles\n",
    "filtered_df = df[(\n",
    "    (df[column_trying] <= 13)\n",
    "    & (df['outcome'] == 'pregnant')\n",
    "    & (df['dedication_group'] == pd.Interval(0.75, 1.0, closed='right'))\n",
    "    & (df['intercourse_frequency_group'] == pd.Interval(0.4, 1.0, closed='right'))\n",
    ")]\n",
    "total_df = df[(\n",
    "    (df['dedication_group'] == pd.Interval(0.75, 1.0, closed='right'))\n",
    "     & (df['intercourse_frequency_group'] == pd.Interval(0.4, 1.0, closed='right'))\n",
    ")]\n",
    "total_count = len(total_df[column_trying])\n",
    "# compute chance\n",
    "chance = 100 * len(filtered_df[column_trying]) / total_count\n",
    "\n",
    "print(f\"Chance when app dedication: logged >75% and intercourse frequency: logged >40% is {chance:.2f} %\")"
   ]
  },
  {
   "cell_type": "code",
   "execution_count": null,
   "id": "d919aca0",
   "metadata": {},
   "outputs": [],
   "source": [
    "# create a dataframe of women that became pregnant within 13 cycles\n",
    "filtered_df = df[(\n",
    "    (df[column_trying] <= 13)\n",
    "    & (df['outcome'] == 'pregnant')\n",
    "    & (df['dedication_group'] == pd.Interval(0.0, 0.25, closed='right'))\n",
    "    & (df['intercourse_frequency_group'] == pd.Interval(0.0, 0.1, closed='right'))\n",
    ")]\n",
    "total_df = df[(\n",
    "    (df['dedication_group'] == pd.Interval(0.0, 0.25, closed='right'))\n",
    "     & (df['intercourse_frequency_group'] == pd.Interval(0.0, 0.1, closed='right'))\n",
    ")]\n",
    "total_count = len(total_df[column_trying])\n",
    "# compute chance\n",
    "chance = 100 * len(filtered_df[column_trying]) / total_count\n",
    "\n",
    "print(f\"Chance when app dedication: logged <25% and ntercourse frequency: logged <10% is {chance:.2f} %\")"
   ]
  },
  {
   "cell_type": "code",
   "execution_count": null,
   "id": "0b157b9c",
   "metadata": {
    "scrolled": false
   },
   "outputs": [],
   "source": [
    "df = pd.read_pickle('NC_cleaned.pkl')\n",
    "\n",
    "filtered_df = df[(\n",
    "    (df[column_trying] <= 13) & (df['outcome'] == 'pregnant')\n",
    ")]\n",
    "\n",
    "# loop over columns and compute chance as a function of each column group\n",
    "for column_name in [\n",
    "    'bmi_group',\n",
    "    'age_group',\n",
    "    'been_pregnant_before',\n",
    "    'average_cycle_length_group',\n",
    "    'dedication_group',\n",
    "    'cycle_length_std_group',\n",
    "    'intercourse_frequency_group',\n",
    "    'sleeping_pattern',\n",
    "    'education',\n",
    "    'regular_cycle',\n",
    "]:\n",
    "    \n",
    "    fig, ax = plt.subplots(figsize=(8, 8))\n",
    "\n",
    "    filtered_count = filtered_df.groupby(column_name)[column_trying].size()\n",
    "    total_count = df.groupby(column_name)[column_trying].size()\n",
    "\n",
    "    (100 * filtered_count / total_count).plot(\n",
    "        kind='bar',\n",
    "        ax=ax,\n",
    "        color='blue',\n",
    "        xlabel=column_name,\n",
    "        ylabel='Chance of pregnancy\\nwithin 13 cycles (%)'\n",
    "    )\n",
    "    plt.xticks(rotation=45)\n",
    "    plt.show()"
   ]
  },
  {
   "cell_type": "markdown",
   "id": "8fdf1ff4",
   "metadata": {},
   "source": [
    "# Compute 'How long does it usually take to get pregnant?'"
   ]
  },
  {
   "cell_type": "code",
   "execution_count": null,
   "id": "9a626b73",
   "metadata": {},
   "outputs": [],
   "source": [
    "from scipy.stats import f_oneway\n",
    "\n",
    "def anova_test(df, category_column, target_column, *categories):\n",
    "    \"\"\"\n",
    "    Are there statistically significant \n",
    "    differences in means across groups?\n",
    "    \"\"\"\n",
    "    groups = []\n",
    "    for category in categories:\n",
    "        groups.append(df[df[category_column] == category][target_column])\n",
    "    f_statistic, p_value = f_oneway(*groups)\n",
    "    \n",
    "    return f_statistic, p_value"
   ]
  },
  {
   "cell_type": "code",
   "execution_count": null,
   "id": "b6564756",
   "metadata": {
    "scrolled": false
   },
   "outputs": [],
   "source": [
    "df = pd.read_pickle(\"NC_cleaned.pkl\")\n",
    "\n",
    "# create a dataframe of women that became pregnant after trying\n",
    "filtered_df = df[(\n",
    "    df['outcome'] == 'pregnant'\n",
    ")]\n",
    "# compute mean and median\n",
    "mean = filtered_df[column_trying].mean()\n",
    "median = filtered_df[column_trying].median()\n",
    "print(f\"Mean is {mean:.2f}\\nMedian is {median:.2f}\\n\")\n",
    "\n",
    "# loop over columns and compute the mean and median of each column group\n",
    "for column_name in [\n",
    "    'bmi_group',\n",
    "    'age_group',\n",
    "    'been_pregnant_before',\n",
    "    'average_cycle_length_group',\n",
    "    'dedication_group',\n",
    "    'cycle_length_std_group',\n",
    "    'intercourse_frequency_group',\n",
    "    'sleeping_pattern',\n",
    "    'education',\n",
    "    'regular_cycle',\n",
    "]:\n",
    "    \n",
    "    # perform ANOVA test to check if there are statistically significant differences in means across groups\n",
    "    unique_groups = df[column_name].dropna().unique()\n",
    "    f_statistic, p_value = anova_test(df, column_name, column_trying, *unique_groups)\n",
    "    print(column_name)\n",
    "    print(f'F-statistic: {f_statistic:.5f}')\n",
    "    add = ' (Significant!)' if (p_value < 0.05) else ''\n",
    "    print(f'P-value: {p_value:.5f}{add}\\n')\n",
    "    add = ' (Significant difference!)' if (p_value < 0.05) else ''\n",
    "    \n",
    "    # plot mean and median\n",
    "    fig, ax = plt.subplots(figsize=(8, 8))\n",
    "    \n",
    "    median_values = filtered_df.groupby(column_name)[column_trying].mean()\n",
    "    mean_values = filtered_df.groupby(column_name)[column_trying].median()\n",
    "    stdev_values = filtered_df.groupby(column_name)[column_trying].std()\n",
    "    \n",
    "    median_values.plot(\n",
    "        kind='bar',\n",
    "        ax=ax,\n",
    "        color='blue',\n",
    "        position=1,\n",
    "        align='center',\n",
    "        width=0.2,\n",
    "        xlabel=column_name,\n",
    "        ylabel='Cycles of trying',\n",
    "        label='Median',\n",
    "        #yerr=stdev_values,\n",
    "    )\n",
    "    mean_values.plot(\n",
    "        kind='bar',\n",
    "        ax=ax,\n",
    "        color='orange',\n",
    "        position=0,\n",
    "        align='center',\n",
    "        width=0.2,\n",
    "        label=f'Mean{add}',\n",
    "        #yerr=stdev_values,\n",
    "    )\n",
    "    plt.xticks(rotation=45)\n",
    "    plt.legend(loc='best', frameon=False)\n",
    "    plt.show()"
   ]
  },
  {
   "cell_type": "markdown",
   "id": "07a8cf00",
   "metadata": {},
   "source": [
    "# Compute 'What factors impact the time it takes to get pregnant?'"
   ]
  },
  {
   "cell_type": "code",
   "execution_count": null,
   "id": "a4b9fb3a",
   "metadata": {},
   "outputs": [],
   "source": [
    "from sklearn.preprocessing import StandardScaler\n",
    "import statsmodels.api as sm"
   ]
  },
  {
   "cell_type": "code",
   "execution_count": null,
   "id": "1fdd91c3",
   "metadata": {},
   "outputs": [],
   "source": [
    "df = pd.read_pickle('NC_cleaned_encoded.pkl')\n",
    "\n",
    "filtered_df = df[(\n",
    "    df['outcome'] == 1\n",
    ")]\n",
    "\n",
    "X = filtered_df[['bmi', 'age', 'been_pregnant_before', 'education', 'sleeping_pattern', 'dedication','average_cycle_length', 'cycle_length_std', 'regular_cycle', 'intercourse_frequency']]\n",
    "y = filtered_df['n_cycles_trying']\n",
    "\n",
    "scaler = StandardScaler()\n",
    "X_scaled = scaler.fit_transform(X)\n",
    "\n",
    "X2 = sm.add_constant(X_scaled)\n",
    "est = sm.OLS(y, X2)\n",
    "est2 = est.fit()\n",
    "print(est2.summary())"
   ]
  },
  {
   "cell_type": "code",
   "execution_count": null,
   "id": "3acadffc",
   "metadata": {},
   "outputs": [],
   "source": [
    "coefficients = pd.DataFrame(list(est2.params)[1:], X.columns, columns=['coefficient'])\n",
    "coefficients = coefficients.assign(pvalue=list(est2.pvalues)[1:])\n",
    "\n",
    "print(coefficients)"
   ]
  },
  {
   "cell_type": "code",
   "execution_count": null,
   "id": "d415f6ec",
   "metadata": {},
   "outputs": [],
   "source": []
  }
 ],
 "metadata": {
  "kernelspec": {
   "display_name": "Python 3 (ipykernel)",
   "language": "python",
   "name": "python3"
  },
  "language_info": {
   "codemirror_mode": {
    "name": "ipython",
    "version": 3
   },
   "file_extension": ".py",
   "mimetype": "text/x-python",
   "name": "python",
   "nbconvert_exporter": "python",
   "pygments_lexer": "ipython3",
   "version": "3.9.12"
  }
 },
 "nbformat": 4,
 "nbformat_minor": 5
}
