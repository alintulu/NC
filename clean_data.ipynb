{
 "cells": [
  {
   "cell_type": "code",
   "execution_count": null,
   "id": "c5059841",
   "metadata": {},
   "outputs": [],
   "source": [
    "import numpy as np\n",
    "import pandas as pd\n",
    "pd.options.display.float_format = '{:.2f}'.format\n",
    "\n",
    "import matplotlib.pyplot as plt\n",
    "plt.rcParams['font.size'] = 25"
   ]
  },
  {
   "cell_type": "markdown",
   "id": "caa02443",
   "metadata": {},
   "source": [
    "# Table of Contents\n",
    "\n",
    "- [Summaries data](#Summaries-data)\n",
    "- [Handle missing values](#Handle-missing-values)\n",
    "- [Check for duplicates](#Check-for-duplicates)\n",
    "- [Plot box plot to detect outliers](#Plot-box-plot-to-detect-outliers)\n",
    "- [One-hot encode](#One-hot-encode)"
   ]
  },
  {
   "cell_type": "markdown",
   "id": "15e9154e",
   "metadata": {},
   "source": [
    "# Summaries data"
   ]
  },
  {
   "cell_type": "code",
   "execution_count": null,
   "id": "238bebcd",
   "metadata": {},
   "outputs": [],
   "source": [
    "df = pd.read_csv('NCDataChallenge_2021_v1.csv', usecols=lambda column: column != 'Unnamed: 0')\n",
    "\n",
    "# compute min, max, and mean for each numeric column\n",
    "numeric_columns = df.select_dtypes(exclude=['object']).columns\n",
    "min_values = df[numeric_columns].min()\n",
    "max_values = df[numeric_columns].max()\n",
    "mean_values = df[numeric_columns].mean()\n",
    "median_values = df[numeric_columns].median()\n",
    "mode_values = df[numeric_columns].mode()\n",
    "\n",
    "# combine the statistics\n",
    "summary_df = pd.DataFrame({\n",
    "    'Min': min_values,\n",
    "    'Max': max_values,\n",
    "    'Mean': mean_values,\n",
    "    'Median': median_values,\n",
    "    'Mode': mode_values.iloc[0],\n",
    "})\n",
    "\n",
    "print(summary_df)"
   ]
  },
  {
   "cell_type": "markdown",
   "id": "aeaff5a9",
   "metadata": {},
   "source": [
    "# Handle missing values"
   ]
  },
  {
   "cell_type": "code",
   "execution_count": null,
   "id": "30d933e1",
   "metadata": {},
   "outputs": [],
   "source": [
    "print('Missing values')\n",
    "print(df.isnull().sum())\n",
    "print()\n",
    "\n",
    "# remove numerical missing values\n",
    "df = df.dropna(subset = ['average_cycle_length', 'cycle_length_std', 'regular_cycle'])\n",
    "# keep object missing values\n",
    "df = df.fillna('Missing entry')\n",
    "\n",
    "print('Missing values')\n",
    "print(df.isnull().sum())\n",
    "print()"
   ]
  },
  {
   "cell_type": "markdown",
   "id": "19dfdcbf",
   "metadata": {},
   "source": [
    "# Check for duplicates"
   ]
  },
  {
   "cell_type": "code",
   "execution_count": null,
   "id": "84011d65",
   "metadata": {},
   "outputs": [],
   "source": [
    "print('Duplicates')\n",
    "print(df.duplicated().sum())\n",
    "print()\n",
    "#df.drop_duplicates(inplace=True)\n",
    "\n",
    "# print types\n",
    "print('Types')\n",
    "print(df.dtypes)"
   ]
  },
  {
   "cell_type": "markdown",
   "id": "1f807cf6",
   "metadata": {},
   "source": [
    "# Plot box-plot to detect outliers"
   ]
  },
  {
   "cell_type": "code",
   "execution_count": null,
   "id": "31b7eda9",
   "metadata": {
    "scrolled": false
   },
   "outputs": [],
   "source": [
    "numeric_columns = df.select_dtypes(exclude=['object']).columns\n",
    "\n",
    "for column_name in ['n_cycles_trying']: #numeric_columns:\n",
    "    \n",
    "    fig, ax = plt.subplots(figsize=(6, 10))\n",
    "    \n",
    "    ax.boxplot(\n",
    "        df[column_name],\n",
    "    )\n",
    "    ax.set_ylabel(column_name)\n",
    "    plt.yticks(rotation=90, ha='right')\n",
    "    plt.show()\n",
    "\n",
    "    # remove outliers based on a threshold\n",
    "    #df = df[df[column_name] < df[column_name].quantile(0.99)]"
   ]
  },
  {
   "cell_type": "code",
   "execution_count": null,
   "id": "e069b5ec",
   "metadata": {},
   "outputs": [],
   "source": [
    "# create a new column that groups former column entries according to the provided ranges\n",
    "for column_name, edges in [\n",
    "    ('bmi', [5, 18.5, 24.9, 29.9, 39.9, 50]),\n",
    "    ('age', np.arange(20, 45, 5)),\n",
    "    ('dedication', np.linspace(0, 1, 5)),\n",
    "    ('average_cycle_length', np.arange(20, 60, 5)),\n",
    "    ('cycle_length_std', np.arange(0, 30, 5)),\n",
    "    ('intercourse_frequency', [0, 0.1, 0.2, 0.4, 1]),\n",
    "]:\n",
    "\n",
    "    df[column_name + '_group'] = pd.cut(df[column_name], bins=edges)"
   ]
  },
  {
   "cell_type": "code",
   "execution_count": null,
   "id": "4e442551",
   "metadata": {},
   "outputs": [],
   "source": [
    "df.to_pickle(\"NC_cleaned.pkl\")"
   ]
  },
  {
   "cell_type": "markdown",
   "id": "328cbf0b",
   "metadata": {},
   "source": [
    "# One-hot encode"
   ]
  },
  {
   "cell_type": "code",
   "execution_count": null,
   "id": "b565cfdc",
   "metadata": {},
   "outputs": [],
   "source": [
    "# convert categorical variables into numeric format\n",
    "\n",
    "object_columns = ['been_pregnant_before', 'regular_cycle', 'education', 'sleeping_pattern', 'country', 'outcome']\n",
    "\n",
    "for column_name in object_columns:\n",
    "    df[column_name] = df[column_name].astype('category')\n",
    "\n",
    "df[object_columns] = df[object_columns].dropna().apply(lambda x: x.cat.codes)"
   ]
  },
  {
   "cell_type": "code",
   "execution_count": null,
   "id": "75b1b8bb",
   "metadata": {},
   "outputs": [],
   "source": [
    "df.to_pickle(\"NC_cleaned_encoded.pkl\")"
   ]
  },
  {
   "cell_type": "code",
   "execution_count": null,
   "id": "10d300f5",
   "metadata": {},
   "outputs": [],
   "source": []
  }
 ],
 "metadata": {
  "kernelspec": {
   "display_name": "Python 3 (ipykernel)",
   "language": "python",
   "name": "python3"
  },
  "language_info": {
   "codemirror_mode": {
    "name": "ipython",
    "version": 3
   },
   "file_extension": ".py",
   "mimetype": "text/x-python",
   "name": "python",
   "nbconvert_exporter": "python",
   "pygments_lexer": "ipython3",
   "version": "3.9.12"
  }
 },
 "nbformat": 4,
 "nbformat_minor": 5
}
